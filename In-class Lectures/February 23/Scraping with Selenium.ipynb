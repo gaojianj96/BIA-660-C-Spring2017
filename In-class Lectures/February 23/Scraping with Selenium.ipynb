{
 "cells": [
  {
   "cell_type": "code",
   "execution_count": 6,
   "metadata": {
    "collapsed": false
   },
   "outputs": [],
   "source": [
    "from selenium import webdriver\n",
    "from selenium.webdriver.common.keys import Keys\n",
    "\n",
    "driver = webdriver.Firefox()\n",
    "driver.get(\"http://www.python.org\")\n",
    "assert \"Python\" in driver.title\n",
    "elem = driver.find_element_by_name(\"q\")\n",
    "elem.clear()\n",
    "elem.send_keys(\"pycon\")\n",
    "elem.send_keys(Keys.RETURN)\n",
    "assert \"No results found.\" not in driver.page_source\n"
   ]
  },
  {
   "cell_type": "code",
   "execution_count": 5,
   "metadata": {
    "collapsed": true
   },
   "outputs": [],
   "source": [
    "driver.close()"
   ]
  },
  {
   "cell_type": "code",
   "execution_count": 25,
   "metadata": {
    "collapsed": true
   },
   "outputs": [],
   "source": [
    "driver.get('http://www.yelp.com')"
   ]
  },
  {
   "cell_type": "code",
   "execution_count": 26,
   "metadata": {
    "collapsed": true
   },
   "outputs": [],
   "source": [
    "text_input = driver.find_element_by_id('find_desc')"
   ]
  },
  {
   "cell_type": "code",
   "execution_count": 27,
   "metadata": {
    "collapsed": true
   },
   "outputs": [],
   "source": [
    "text_input.clear()\n",
    "text_input.send_keys('Chinese Food')"
   ]
  },
  {
   "cell_type": "code",
   "execution_count": 28,
   "metadata": {
    "collapsed": true
   },
   "outputs": [],
   "source": [
    "text_input.submit()"
   ]
  },
  {
   "cell_type": "code",
   "execution_count": 13,
   "metadata": {
    "collapsed": true
   },
   "outputs": [],
   "source": [
    "submit_button = driver.find_element_by_id('header-search-submit')"
   ]
  },
  {
   "cell_type": "code",
   "execution_count": 14,
   "metadata": {
    "collapsed": true
   },
   "outputs": [],
   "source": [
    "submit_button.click()"
   ]
  },
  {
   "cell_type": "code",
   "execution_count": 16,
   "metadata": {
    "collapsed": false
   },
   "outputs": [
    {
     "name": "stderr",
     "output_type": "stream",
     "text": [
      "C:\\Users\\Zac\\Anaconda2\\lib\\site-packages\\bs4\\__init__.py:181: UserWarning: No parser was explicitly specified, so I'm using the best available HTML parser for this system (\"lxml\"). This usually isn't a problem, but if you run this code on another system, or in a different virtual environment, it may use a different parser and behave differently.\n",
      "\n",
      "The code that caused this warning is on line 174 of the file C:\\Users\\Zac\\Anaconda2\\lib\\runpy.py. To get rid of this warning, change code that looks like this:\n",
      "\n",
      " BeautifulSoup([your markup])\n",
      "\n",
      "to this:\n",
      "\n",
      " BeautifulSoup([your markup], \"lxml\")\n",
      "\n",
      "  markup_type=markup_type))\n"
     ]
    }
   ],
   "source": [
    "import bs4\n",
    "soup = bs4.BeautifulSoup(driver.page_source)"
   ]
  },
  {
   "cell_type": "code",
   "execution_count": 18,
   "metadata": {
    "collapsed": false,
    "scrolled": false
   },
   "outputs": [],
   "source": [
    "search_results = soup.findAll(attrs={'class': 'regular-search-result'})"
   ]
  },
  {
   "cell_type": "code",
   "execution_count": 19,
   "metadata": {
    "collapsed": false
   },
   "outputs": [
    {
     "data": {
      "text/plain": [
       "[(u'Old Peking', u'(201) 435-4664'),\n",
       " (u'Food King', u'(201) 332-5422'),\n",
       " (u'Hunan House I', u'(201) 876-9908'),\n",
       " (u'Chaan Teng', u'(212) 235-1886'),\n",
       " (u'Great Wall', u'(201) 433-1388'),\n",
       " (u'Shanghai Best', u'(201) 333-6868'),\n",
       " (u'The Wei', u'(718) 260-8888'),\n",
       " (u'Grand Sichuan', u'(201) 451-1960'),\n",
       " (u'Taste Of North China', u'(201) 521-1800'),\n",
       " (u'The Old Spot', u'(201) 205-2972')]"
      ]
     },
     "execution_count": 19,
     "metadata": {},
     "output_type": "execute_result"
    }
   ],
   "source": [
    "[(res.find(attrs={'class':'biz-name js-analytics-click'}).span.text.strip(), \n",
    "  res.find(attrs={'class': 'biz-phone'}).text.strip()) for res in search_results] "
   ]
  },
  {
   "cell_type": "code",
   "execution_count": 22,
   "metadata": {
    "collapsed": false
   },
   "outputs": [
    {
     "data": {
      "text/plain": [
       "True"
      ]
     },
     "execution_count": 22,
     "metadata": {},
     "output_type": "execute_result"
    }
   ],
   "source": [
    "driver.save_screenshot('screen.png')"
   ]
  },
  {
   "cell_type": "code",
   "execution_count": 24,
   "metadata": {
    "collapsed": false
   },
   "outputs": [],
   "source": [
    "driver.get('http://www.reddit.com')"
   ]
  },
  {
   "cell_type": "code",
   "execution_count": 29,
   "metadata": {
    "collapsed": false
   },
   "outputs": [
    {
     "data": {
      "text/plain": [
       "<Response [200]>"
      ]
     },
     "execution_count": 29,
     "metadata": {},
     "output_type": "execute_result"
    }
   ],
   "source": [
    "#stealing requests\n",
    "import requests\n",
    "requests.get('https://api.stackexchange.com/2.2/search/advanced?key=U4DMV*8nvpm3EOpvf69Rxw((&site=stackoverflow&order=desc&sort=activity&q=how%20to%20find%20duplicates%20in%20a%20list&tagged=python&filter=default')"
   ]
  },
  {
   "cell_type": "code",
   "execution_count": 30,
   "metadata": {
    "collapsed": true
   },
   "outputs": [],
   "source": [
    "r = requests.get('https://www.yelp.com/search_suggest/v2/prefetch?loc=Hoboken%2C+NJ&loc_name_param=find_loc&prefix=chinese+food+ta')"
   ]
  },
  {
   "cell_type": "code",
   "execution_count": 32,
   "metadata": {
    "collapsed": false
   },
   "outputs": [
    {
     "data": {
      "text/plain": [
       "{u'response': [{u'prefix': u'chinese food ta',\n",
       "   u'suggestions': [{u'ajax_data': u'null',\n",
       "     u'css_class': None,\n",
       "     u'is_bookmarked': None,\n",
       "     u'is_typeahead': False,\n",
       "     u'name_param': u'find_desc',\n",
       "     u'num_checkins': None,\n",
       "     u'query': u'Chinese food take out',\n",
       "     u'redirect_url': None,\n",
       "     u'subtitle': None,\n",
       "     u'thumbnail': None,\n",
       "     u'title': u'Chinese food take out',\n",
       "     u'type': u'common',\n",
       "     u'version': 1},\n",
       "    {u'ajax_data': u'null',\n",
       "     u'css_class': None,\n",
       "     u'is_bookmarked': None,\n",
       "     u'is_typeahead': False,\n",
       "     u'name_param': u'find_desc',\n",
       "     u'num_checkins': None,\n",
       "     u'query': u'Chinese food takeout',\n",
       "     u'redirect_url': None,\n",
       "     u'subtitle': None,\n",
       "     u'thumbnail': None,\n",
       "     u'title': u'Chinese food takeout',\n",
       "     u'type': u'common',\n",
       "     u'version': 1},\n",
       "    {u'ajax_data': u'null',\n",
       "     u'css_class': None,\n",
       "     u'is_bookmarked': None,\n",
       "     u'is_typeahead': False,\n",
       "     u'name_param': u'find_desc',\n",
       "     u'num_checkins': None,\n",
       "     u'query': u'Best chinese food take out',\n",
       "     u'redirect_url': None,\n",
       "     u'subtitle': None,\n",
       "     u'thumbnail': None,\n",
       "     u'title': u'Best chinese food take out',\n",
       "     u'type': u'common',\n",
       "     u'version': 1},\n",
       "    {u'ajax_data': u'null',\n",
       "     u'css_class': None,\n",
       "     u'is_bookmarked': None,\n",
       "     u'is_typeahead': False,\n",
       "     u'name_param': u'find_desc',\n",
       "     u'num_checkins': None,\n",
       "     u'query': u'Great Wall Chinese Food Take-Out',\n",
       "     u'redirect_url': u'/biz/great-wall-chinese-food-take-out-brooklyn',\n",
       "     u'subtitle': u'84 Manhattan Avenue, Brooklyn',\n",
       "     u'thumbnail': {u'color': None,\n",
       "      u'key': u'https://s3-media1.fl.yelpcdn.com/assets/srv0/yelp_styleguide/8c6e08f3f2bb/assets/img/default_avatars/business_30_square.png',\n",
       "      u'type': u'image-rounded'},\n",
       "     u'title': u'Great Wall Chinese Food Take-Out',\n",
       "     u'type': u'business',\n",
       "     u'version': 1},\n",
       "    {u'ajax_data': u'null',\n",
       "     u'css_class': None,\n",
       "     u'is_bookmarked': None,\n",
       "     u'is_typeahead': False,\n",
       "     u'name_param': u'find_desc',\n",
       "     u'num_checkins': None,\n",
       "     u'query': u'Chinese',\n",
       "     u'redirect_url': None,\n",
       "     u'subtitle': None,\n",
       "     u'thumbnail': None,\n",
       "     u'title': u'Chinese',\n",
       "     u'type': u'category',\n",
       "     u'version': 1},\n",
       "    {u'ajax_data': u'null',\n",
       "     u'css_class': None,\n",
       "     u'is_bookmarked': None,\n",
       "     u'is_typeahead': False,\n",
       "     u'name_param': u'find_desc',\n",
       "     u'num_checkins': None,\n",
       "     u'query': u'Restaurants',\n",
       "     u'redirect_url': None,\n",
       "     u'subtitle': None,\n",
       "     u'thumbnail': None,\n",
       "     u'title': u'Restaurants',\n",
       "     u'type': u'category',\n",
       "     u'version': 1},\n",
       "    {u'ajax_data': u'null',\n",
       "     u'css_class': None,\n",
       "     u'is_bookmarked': None,\n",
       "     u'is_typeahead': False,\n",
       "     u'name_param': u'find_desc',\n",
       "     u'num_checkins': None,\n",
       "     u'query': u'Thai',\n",
       "     u'redirect_url': None,\n",
       "     u'subtitle': None,\n",
       "     u'thumbnail': None,\n",
       "     u'title': u'Thai',\n",
       "     u'type': u'category',\n",
       "     u'version': 1}],\n",
       "   u'typeahead': {u'typeahead_text': u'Chinese food take out', u'url': None},\n",
       "   u'unique_request_id': u'4b5294baf6a5dcb6_0',\n",
       "   u'unique_suggestion_id': u'4b5294baf6a5dcb6_0'}],\n",
       " u'unique_request_id': u'4b5294baf6a5dcb6'}"
      ]
     },
     "execution_count": 32,
     "metadata": {},
     "output_type": "execute_result"
    }
   ],
   "source": [
    "r.json()"
   ]
  },
  {
   "cell_type": "code",
   "execution_count": null,
   "metadata": {
    "collapsed": true
   },
   "outputs": [],
   "source": []
  }
 ],
 "metadata": {
  "kernelspec": {
   "display_name": "Python 2",
   "language": "python",
   "name": "python2"
  },
  "language_info": {
   "codemirror_mode": {
    "name": "ipython",
    "version": 2
   },
   "file_extension": ".py",
   "mimetype": "text/x-python",
   "name": "python",
   "nbconvert_exporter": "python",
   "pygments_lexer": "ipython2",
   "version": "2.7.13"
  }
 },
 "nbformat": 4,
 "nbformat_minor": 2
}

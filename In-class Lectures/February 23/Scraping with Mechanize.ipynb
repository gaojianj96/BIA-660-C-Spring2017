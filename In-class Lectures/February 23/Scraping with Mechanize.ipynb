{
 "cells": [
  {
   "cell_type": "code",
   "execution_count": 5,
   "metadata": {
    "collapsed": false
   },
   "outputs": [
    {
     "name": "stderr",
     "output_type": "stream",
     "text": [
      "C:\\Users\\Zac\\Anaconda2\\lib\\site-packages\\ipykernel\\__main__.py:13: UserWarning: gzip transfer encoding is experimental!\n"
     ]
    }
   ],
   "source": [
    "import mechanize\n",
    "import cookielib\n",
    "\n",
    "# Browser\n",
    "br = mechanize.Browser()\n",
    "\n",
    "# Cookie Jar\n",
    "cj = cookielib.LWPCookieJar()\n",
    "br.set_cookiejar(cj)\n",
    "\n",
    "# Browser options\n",
    "br.set_handle_equiv(True)\n",
    "br.set_handle_gzip(True)\n",
    "br.set_handle_redirect(True)\n",
    "br.set_handle_referer(True)\n",
    "br.set_handle_robots(False)\n",
    "\n",
    "# Follows refresh 0 but not hangs on refresh > 0\n",
    "br.set_handle_refresh(mechanize._http.HTTPRefreshProcessor(), max_time=1)\n",
    "\n",
    "# Want debugging messages?\n",
    "#br.set_debug_http(True)\n",
    "#br.set_debug_redirects(True)\n",
    "#br.set_debug_responses(True)\n",
    "\n",
    "# User-Agent (this is cheating, ok?)\n",
    "br.addheaders = [('User-agent', 'Mozilla/5.0 (Windows NT 6.1; Win64; x64) AppleWebKit/537.36 (KHTML, like Gecko) Chrome/40.0.2214.85 Safari/537.36')]"
   ]
  },
  {
   "cell_type": "code",
   "execution_count": 6,
   "metadata": {
    "collapsed": true
   },
   "outputs": [],
   "source": [
    "r = br.open('https://www.yelp.com/search?find_desc=vietnamese+food&find_loc=Hoboken&ns=1')\n",
    "html = r.read()\n",
    "\n",
    "\n"
   ]
  },
  {
   "cell_type": "code",
   "execution_count": 7,
   "metadata": {
    "collapsed": false
   },
   "outputs": [],
   "source": [
    "import bs4\n",
    "soup = bs4.BeautifulSoup(html)"
   ]
  },
  {
   "cell_type": "code",
   "execution_count": 11,
   "metadata": {
    "collapsed": false
   },
   "outputs": [],
   "source": [
    "search_results = soup.findAll(attrs={'class': 'regular-search-result'})"
   ]
  },
  {
   "cell_type": "code",
   "execution_count": 10,
   "metadata": {
    "collapsed": true
   },
   "outputs": [],
   "source": [
    "with open('this_html.html', 'w') as outfile:\n",
    "    outfile.write(html)"
   ]
  },
  {
   "cell_type": "code",
   "execution_count": 35,
   "metadata": {
    "collapsed": false
   },
   "outputs": [
    {
     "data": {
      "text/plain": [
       "[(u'Pho Nomenon Noodle & Grill', u'(201) 706-8554'),\n",
       " (u'New Thanh Hoai', u'(201) 918-6599')]"
      ]
     },
     "execution_count": 35,
     "metadata": {},
     "output_type": "execute_result"
    }
   ],
   "source": [
    "[(res.find(attrs={'class':'biz-name js-analytics-click'}).span.text.strip(), \n",
    "  res.find(attrs={'class': 'biz-phone'}).text.strip()) for res in search_results] "
   ]
  },
  {
   "cell_type": "code",
   "execution_count": 19,
   "metadata": {
    "collapsed": false
   },
   "outputs": [
    {
     "data": {
      "text/plain": [
       "1932"
      ]
     },
     "execution_count": 19,
     "metadata": {},
     "output_type": "execute_result"
    }
   ],
   "source": [
    "str(search_results[0]).find('biz-phone')"
   ]
  },
  {
   "cell_type": "code",
   "execution_count": 23,
   "metadata": {
    "collapsed": false
   },
   "outputs": [
    {
     "data": {
      "text/plain": [
       "'an>\\n<span class=\"biz-phone\">\\n        (201) 706-8554\\n    </span>\\n</div>\\n</div>\\n<div class=\"search-result-ctas u-space-'"
      ]
     },
     "execution_count": 23,
     "metadata": {},
     "output_type": "execute_result"
    }
   ],
   "source": [
    "str(search_results[0])[1915:2032]"
   ]
  },
  {
   "cell_type": "code",
   "execution_count": 25,
   "metadata": {
    "collapsed": true
   },
   "outputs": [],
   "source": [
    "sr = search_results[0]"
   ]
  },
  {
   "cell_type": "code",
   "execution_count": 26,
   "metadata": {
    "collapsed": false
   },
   "outputs": [
    {
     "data": {
      "text/plain": [
       "<li class=\"regular-search-result\">\\n<div class=\"search-result natural-search-result\" data-key=\"1\">\\n<div class=\"biz-listing-large\">\\n<div class=\"main-attributes\">\\n<div class=\"media-block media-block--12\">\\n<div class=\"media-avatar\">\\n<div class=\"photo-box pb-90s\">\\n<a class=\"js-analytics-click\" data-analytics-label=\"biz-photo\" href=\"/biz/pho-nomenon-noodle-and-grill-hoboken?osq=vietnamese+food\">\\n<img alt=\"Pho Nomenon Noodle &amp; Grill\" class=\"photo-box-img\" height=\"90\" src=\"https://s3-media3.fl.yelpcdn.com/bphoto/zWyVwZdyyjEuDBmlfL4T5A/90s.jpg\" width=\"90\"/>\\n</a>\\n</div>\\n</div>\\n<div class=\"media-story\">\\n<h3 class=\"search-result-title\">\\n<span class=\"indexed-biz-name\">1.         <a class=\"biz-name js-analytics-click\" data-analytics-label=\"biz-name\" data-hovercard-id=\"HblDdwBZIP7F1dYH5JRBag\" href=\"/biz/pho-nomenon-noodle-and-grill-hoboken?osq=vietnamese+food\"><span>Pho Nomenon Noodle &amp; Grill</span></a>\\n</span>\\n</h3>\\n<div class=\"biz-rating biz-rating-large clearfix\">\\n<div class=\"i-stars i-stars--regular-3 rating-large\" title=\"3.0 star rating\">\\n<img alt=\"3.0 star rating\" class=\"offscreen\" height=\"303\" src=\"https://s3-media1.fl.yelpcdn.com/assets/srv0/yelp_design_web/41341496d9db/assets/img/stars/stars.png\" width=\"84\"/>\\n</div>\\n<span class=\"review-count rating-qualifier\">\\n            162 reviews\\n    </span>\\n</div>\\n<div class=\"price-category\">\\n<span class=\"bullet-after\">\\n<span class=\"business-attribute price-range\">$</span>\\n</span>\\n<span class=\"category-str-list\">\\n<a href=\"/search?find_desc=vietnamese+food&amp;find_loc=Hoboken&amp;cflt=vietnamese\">Vietnamese</a>,\\n                    <a href=\"/search?find_desc=vietnamese+food&amp;find_loc=Hoboken&amp;cflt=noodles\">Noodles</a>\\n</span>\\n</div>\\n<ul class=\"search-result_tags\">\\n</ul>\\n</div>\\n</div>\\n</div>\\n<div class=\"secondary-attributes\">\\n<address>\\n        516 Washington St<br/>Hoboken, NJ 07030\\n    </address>\\n<span class=\"offscreen\">Phone number</span>\\n<span class=\"biz-phone\">\\n        (201) 706-8554\\n    </span>\\n</div>\\n</div>\\n<div class=\"search-result-ctas u-space-t1\">\\n<div class=\"search-avatar-offset js-platform\">\\n<div class=\"island island--slim search-result-cta\">\\n<div class=\"arrange arrange--middle arrange--6\">\\n<div class=\"arrange_unit\">\\n<span aria-hidden=\"true\" class=\"icon icon--18-order icon--size-18\" style=\"fill: #ca6d00; width: 18px; height: 18px;\">\\n<svg class=\"icon_svg\">\\n<use xlink:href=\"#18x18_order\"></use>\\n</svg>\\n</span>\\n</div>\\n<div class=\"arrange_unit--fill arrange_unit cta-text\">\\n<span class=\"\">\\n            This restaurant accepts pickup and delivery\\n        </span>\\n</div>\\n<div class=\"arrange_unit nowrap js-tag-action\" data-business-id=\"OE9bjWdWyo530-Nj3dIILw\" data-popup-title=\"\" data-search-action-uri=\"/transaction_platform/start_order/OE9bjWdWyo530-Nj3dIILw\">\\n<a class=\"ybtn ybtn--small low-intent-search-action-button\" href=\"javascript:;\">Start Order</a>\\n</div>\\n</div>\\n</div>\\n<div class=\"search-result-cta-error-row\">\\n<div class=\"platform-vsearch-error-message text-error\">\\n</div>\\n</div>\\n</div>\\n</div>\\n<div class=\"snippet-block media-block\">\\n<div class=\"media-avatar\">\\n<div class=\"photo-box pb-30s\" data-hovercard-id=\"daCCXEk5YQLmzwdIvUeeDw\">\\n<a href=\"/user_details?userid=5mdS-QvefXD0EhYDqiSrdA\">\\n<img alt=\"Kelly N.\" class=\"photo-box-img\" height=\"30\" src=\"https://s3-media1.fl.yelpcdn.com/photo/YJFa28-3D0O4sVo9h4wyaA/30s.jpg\" width=\"30\"/>\\n</a>\\n</div>\\n</div>\\n<div class=\"media-story\">\\n<p class=\"snippet\">\\n                        having Chinese owners (who are really friendly, btw), the <span class=\"highlighted\">food</span> still had those delicious <span class=\"highlighted\">Vietnamese</span> flavors. My go-to is the grilled pork with white rice. I've definitely had better\\u2026\\n                        <a class=\"nowrap\" href=\"/biz/pho-nomenon-noodle-and-grill-hoboken?hrid=flhdJjn0DwfeygIGh279cA&amp;osq=vietnamese+food\">read more</a>\\n</p>\\n</div>\\n</div>\\n</div>\\n</li>"
      ]
     },
     "execution_count": 26,
     "metadata": {},
     "output_type": "execute_result"
    }
   ],
   "source": [
    "sr"
   ]
  },
  {
   "cell_type": "code",
   "execution_count": null,
   "metadata": {
    "collapsed": true
   },
   "outputs": [],
   "source": []
  }
 ],
 "metadata": {
  "kernelspec": {
   "display_name": "Python 2",
   "language": "python",
   "name": "python2"
  },
  "language_info": {
   "codemirror_mode": {
    "name": "ipython",
    "version": 2
   },
   "file_extension": ".py",
   "mimetype": "text/x-python",
   "name": "python",
   "nbconvert_exporter": "python",
   "pygments_lexer": "ipython2",
   "version": "2.7.13"
  }
 },
 "nbformat": 4,
 "nbformat_minor": 2
}
